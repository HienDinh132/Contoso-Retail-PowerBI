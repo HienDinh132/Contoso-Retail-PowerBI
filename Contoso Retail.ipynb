{
 "cells": [
  {
   "cell_type": "markdown",
   "id": "2f4f793c",
   "metadata": {},
   "source": [
    "# Link Power BI Contoso Retail Project\n",
    "\n",
    "https://app.powerbi.com/view?r=eyJrIjoiNWZkMDVmOGQtYjlhYi00NGQwLThmZTUtMDZhNDA1NGQ0ZWExIiwidCI6ImFmMWYzNzUzLTM5MjUtNGU2Zi05NDliLTk3YzAwNzMyMDgwMyIsImMiOjEwfQ%3D%3D"
   ]
  }
 ],
 "metadata": {
  "kernelspec": {
   "display_name": "Python 3 (ipykernel)",
   "language": "python",
   "name": "python3"
  },
  "language_info": {
   "codemirror_mode": {
    "name": "ipython",
    "version": 3
   },
   "file_extension": ".py",
   "mimetype": "text/x-python",
   "name": "python",
   "nbconvert_exporter": "python",
   "pygments_lexer": "ipython3",
   "version": "3.9.13"
  }
 },
 "nbformat": 4,
 "nbformat_minor": 5
}
